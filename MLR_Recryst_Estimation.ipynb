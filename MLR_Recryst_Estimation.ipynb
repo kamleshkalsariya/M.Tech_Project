{
 "cells": [
  {
   "cell_type": "markdown",
   "id": "f9056291",
   "metadata": {},
   "source": [
    "### Recrystallization Fraction Estimation"
   ]
  },
  {
   "cell_type": "markdown",
   "id": "a000f895",
   "metadata": {},
   "source": [
    "##### Random Forest Regresssion Model"
   ]
  },
  {
   "cell_type": "code",
   "execution_count": 25,
   "id": "f7c324a8",
   "metadata": {},
   "outputs": [],
   "source": [
    "import numpy as np\n",
    "import pandas as pd"
   ]
  },
  {
   "cell_type": "code",
   "execution_count": 26,
   "id": "89d767eb",
   "metadata": {},
   "outputs": [
    {
     "data": {
      "text/html": [
       "<div>\n",
       "<style scoped>\n",
       "    .dataframe tbody tr th:only-of-type {\n",
       "        vertical-align: middle;\n",
       "    }\n",
       "\n",
       "    .dataframe tbody tr th {\n",
       "        vertical-align: top;\n",
       "    }\n",
       "\n",
       "    .dataframe thead th {\n",
       "        text-align: right;\n",
       "    }\n",
       "</style>\n",
       "<table border=\"1\" class=\"dataframe\">\n",
       "  <thead>\n",
       "    <tr style=\"text-align: right;\">\n",
       "      <th></th>\n",
       "      <th>Temperature</th>\n",
       "      <th>Strain rate</th>\n",
       "      <th>Strain</th>\n",
       "      <th>Stress</th>\n",
       "      <th>Recrystallization</th>\n",
       "      <th>log(strain_rate)</th>\n",
       "      <th>exp(Q/RT)</th>\n",
       "      <th>Z</th>\n",
       "    </tr>\n",
       "  </thead>\n",
       "  <tbody>\n",
       "    <tr>\n",
       "      <th>0</th>\n",
       "      <td>1193</td>\n",
       "      <td>0.001</td>\n",
       "      <td>0.181</td>\n",
       "      <td>190.500</td>\n",
       "      <td>0.044</td>\n",
       "      <td>-6.907755</td>\n",
       "      <td>1.223409</td>\n",
       "      <td>0.001223</td>\n",
       "    </tr>\n",
       "    <tr>\n",
       "      <th>1</th>\n",
       "      <td>1193</td>\n",
       "      <td>0.001</td>\n",
       "      <td>0.304</td>\n",
       "      <td>191.120</td>\n",
       "      <td>0.125</td>\n",
       "      <td>-6.907755</td>\n",
       "      <td>1.223409</td>\n",
       "      <td>0.001223</td>\n",
       "    </tr>\n",
       "    <tr>\n",
       "      <th>2</th>\n",
       "      <td>1193</td>\n",
       "      <td>0.001</td>\n",
       "      <td>0.402</td>\n",
       "      <td>183.030</td>\n",
       "      <td>0.287</td>\n",
       "      <td>-6.907755</td>\n",
       "      <td>1.223409</td>\n",
       "      <td>0.001223</td>\n",
       "    </tr>\n",
       "    <tr>\n",
       "      <th>3</th>\n",
       "      <td>1193</td>\n",
       "      <td>0.001</td>\n",
       "      <td>0.510</td>\n",
       "      <td>173.810</td>\n",
       "      <td>0.441</td>\n",
       "      <td>-6.907755</td>\n",
       "      <td>1.223409</td>\n",
       "      <td>0.001223</td>\n",
       "    </tr>\n",
       "    <tr>\n",
       "      <th>4</th>\n",
       "      <td>1193</td>\n",
       "      <td>0.001</td>\n",
       "      <td>0.608</td>\n",
       "      <td>167.420</td>\n",
       "      <td>0.588</td>\n",
       "      <td>-6.907755</td>\n",
       "      <td>1.223409</td>\n",
       "      <td>0.001223</td>\n",
       "    </tr>\n",
       "    <tr>\n",
       "      <th>...</th>\n",
       "      <td>...</td>\n",
       "      <td>...</td>\n",
       "      <td>...</td>\n",
       "      <td>...</td>\n",
       "      <td>...</td>\n",
       "      <td>...</td>\n",
       "      <td>...</td>\n",
       "      <td>...</td>\n",
       "    </tr>\n",
       "    <tr>\n",
       "      <th>212</th>\n",
       "      <td>1313</td>\n",
       "      <td>1.000</td>\n",
       "      <td>0.800</td>\n",
       "      <td>301.504</td>\n",
       "      <td>0.625</td>\n",
       "      <td>0.000000</td>\n",
       "      <td>1.201070</td>\n",
       "      <td>1.201070</td>\n",
       "    </tr>\n",
       "    <tr>\n",
       "      <th>213</th>\n",
       "      <td>1313</td>\n",
       "      <td>1.000</td>\n",
       "      <td>0.892</td>\n",
       "      <td>298.665</td>\n",
       "      <td>0.721</td>\n",
       "      <td>0.000000</td>\n",
       "      <td>1.201070</td>\n",
       "      <td>1.201070</td>\n",
       "    </tr>\n",
       "    <tr>\n",
       "      <th>214</th>\n",
       "      <td>1313</td>\n",
       "      <td>1.000</td>\n",
       "      <td>0.995</td>\n",
       "      <td>295.465</td>\n",
       "      <td>0.801</td>\n",
       "      <td>0.000000</td>\n",
       "      <td>1.201070</td>\n",
       "      <td>1.201070</td>\n",
       "    </tr>\n",
       "    <tr>\n",
       "      <th>215</th>\n",
       "      <td>1313</td>\n",
       "      <td>1.000</td>\n",
       "      <td>1.108</td>\n",
       "      <td>292.523</td>\n",
       "      <td>0.868</td>\n",
       "      <td>0.000000</td>\n",
       "      <td>1.201070</td>\n",
       "      <td>1.201070</td>\n",
       "    </tr>\n",
       "    <tr>\n",
       "      <th>216</th>\n",
       "      <td>1313</td>\n",
       "      <td>1.000</td>\n",
       "      <td>1.194</td>\n",
       "      <td>291.594</td>\n",
       "      <td>0.897</td>\n",
       "      <td>0.000000</td>\n",
       "      <td>1.201070</td>\n",
       "      <td>1.201070</td>\n",
       "    </tr>\n",
       "  </tbody>\n",
       "</table>\n",
       "<p>217 rows × 8 columns</p>\n",
       "</div>"
      ],
      "text/plain": [
       "     Temperature  Strain rate  Strain   Stress  Recrystallization  \\\n",
       "0           1193        0.001   0.181  190.500              0.044   \n",
       "1           1193        0.001   0.304  191.120              0.125   \n",
       "2           1193        0.001   0.402  183.030              0.287   \n",
       "3           1193        0.001   0.510  173.810              0.441   \n",
       "4           1193        0.001   0.608  167.420              0.588   \n",
       "..           ...          ...     ...      ...                ...   \n",
       "212         1313        1.000   0.800  301.504              0.625   \n",
       "213         1313        1.000   0.892  298.665              0.721   \n",
       "214         1313        1.000   0.995  295.465              0.801   \n",
       "215         1313        1.000   1.108  292.523              0.868   \n",
       "216         1313        1.000   1.194  291.594              0.897   \n",
       "\n",
       "     log(strain_rate)  exp(Q/RT)         Z  \n",
       "0           -6.907755   1.223409  0.001223  \n",
       "1           -6.907755   1.223409  0.001223  \n",
       "2           -6.907755   1.223409  0.001223  \n",
       "3           -6.907755   1.223409  0.001223  \n",
       "4           -6.907755   1.223409  0.001223  \n",
       "..                ...        ...       ...  \n",
       "212          0.000000   1.201070  1.201070  \n",
       "213          0.000000   1.201070  1.201070  \n",
       "214          0.000000   1.201070  1.201070  \n",
       "215          0.000000   1.201070  1.201070  \n",
       "216          0.000000   1.201070  1.201070  \n",
       "\n",
       "[217 rows x 8 columns]"
      ]
     },
     "execution_count": 26,
     "metadata": {},
     "output_type": "execute_result"
    }
   ],
   "source": [
    "df = pd.read_csv(\"Recryst_Dataset_2.csv\")\n",
    "df"
   ]
  },
  {
   "cell_type": "code",
   "execution_count": 27,
   "id": "676160d7",
   "metadata": {},
   "outputs": [
    {
     "data": {
      "text/plain": [
       "Temperature          0\n",
       "Strain rate          0\n",
       "Strain               0\n",
       "Stress               0\n",
       "Recrystallization    0\n",
       "log(strain_rate)     0\n",
       "exp(Q/RT)            0\n",
       "Z                    0\n",
       "dtype: int64"
      ]
     },
     "execution_count": 27,
     "metadata": {},
     "output_type": "execute_result"
    }
   ],
   "source": [
    "#remove the null value raw\n",
    "df1 = df.dropna(axis=0)\n",
    "df1.isnull().sum()"
   ]
  },
  {
   "cell_type": "code",
   "execution_count": 28,
   "id": "209891d6",
   "metadata": {},
   "outputs": [
    {
     "data": {
      "text/html": [
       "<div>\n",
       "<style scoped>\n",
       "    .dataframe tbody tr th:only-of-type {\n",
       "        vertical-align: middle;\n",
       "    }\n",
       "\n",
       "    .dataframe tbody tr th {\n",
       "        vertical-align: top;\n",
       "    }\n",
       "\n",
       "    .dataframe thead th {\n",
       "        text-align: right;\n",
       "    }\n",
       "</style>\n",
       "<table border=\"1\" class=\"dataframe\">\n",
       "  <thead>\n",
       "    <tr style=\"text-align: right;\">\n",
       "      <th></th>\n",
       "      <th>Temperature</th>\n",
       "      <th>Strain rate</th>\n",
       "      <th>Stress</th>\n",
       "      <th>log(strain_rate)</th>\n",
       "      <th>exp(Q/RT)</th>\n",
       "      <th>Z</th>\n",
       "    </tr>\n",
       "  </thead>\n",
       "  <tbody>\n",
       "    <tr>\n",
       "      <th>0</th>\n",
       "      <td>1193</td>\n",
       "      <td>0.001</td>\n",
       "      <td>190.50</td>\n",
       "      <td>-6.907755</td>\n",
       "      <td>1.223409</td>\n",
       "      <td>0.001223</td>\n",
       "    </tr>\n",
       "    <tr>\n",
       "      <th>1</th>\n",
       "      <td>1193</td>\n",
       "      <td>0.001</td>\n",
       "      <td>191.12</td>\n",
       "      <td>-6.907755</td>\n",
       "      <td>1.223409</td>\n",
       "      <td>0.001223</td>\n",
       "    </tr>\n",
       "    <tr>\n",
       "      <th>2</th>\n",
       "      <td>1193</td>\n",
       "      <td>0.001</td>\n",
       "      <td>183.03</td>\n",
       "      <td>-6.907755</td>\n",
       "      <td>1.223409</td>\n",
       "      <td>0.001223</td>\n",
       "    </tr>\n",
       "    <tr>\n",
       "      <th>3</th>\n",
       "      <td>1193</td>\n",
       "      <td>0.001</td>\n",
       "      <td>173.81</td>\n",
       "      <td>-6.907755</td>\n",
       "      <td>1.223409</td>\n",
       "      <td>0.001223</td>\n",
       "    </tr>\n",
       "    <tr>\n",
       "      <th>4</th>\n",
       "      <td>1193</td>\n",
       "      <td>0.001</td>\n",
       "      <td>167.42</td>\n",
       "      <td>-6.907755</td>\n",
       "      <td>1.223409</td>\n",
       "      <td>0.001223</td>\n",
       "    </tr>\n",
       "  </tbody>\n",
       "</table>\n",
       "</div>"
      ],
      "text/plain": [
       "   Temperature  Strain rate  Stress  log(strain_rate)  exp(Q/RT)         Z\n",
       "0         1193        0.001  190.50         -6.907755   1.223409  0.001223\n",
       "1         1193        0.001  191.12         -6.907755   1.223409  0.001223\n",
       "2         1193        0.001  183.03         -6.907755   1.223409  0.001223\n",
       "3         1193        0.001  173.81         -6.907755   1.223409  0.001223\n",
       "4         1193        0.001  167.42         -6.907755   1.223409  0.001223"
      ]
     },
     "execution_count": 28,
     "metadata": {},
     "output_type": "execute_result"
    }
   ],
   "source": [
    "data_rf = df1.drop(['Recrystallization','Strain'],axis = 1)\n",
    "data_rf.head()"
   ]
  },
  {
   "cell_type": "code",
   "execution_count": 29,
   "id": "148fa50e",
   "metadata": {},
   "outputs": [
    {
     "data": {
      "text/plain": [
       "0    0.044\n",
       "1    0.125\n",
       "2    0.287\n",
       "3    0.441\n",
       "4    0.588\n",
       "Name: Recrystallization, dtype: float64"
      ]
     },
     "execution_count": 29,
     "metadata": {},
     "output_type": "execute_result"
    }
   ],
   "source": [
    "target_rf = df1.Recrystallization\n",
    "target_rf.head()"
   ]
  },
  {
   "cell_type": "code",
   "execution_count": 30,
   "id": "15cc63ee",
   "metadata": {},
   "outputs": [],
   "source": [
    "from sklearn.model_selection import train_test_split\n",
    "data_train, data_test, target_train, target_test = train_test_split(data_rf,target_rf,test_size=0.2)"
   ]
  },
  {
   "cell_type": "code",
   "execution_count": 31,
   "id": "ca2771cc",
   "metadata": {},
   "outputs": [],
   "source": [
    "from sklearn.ensemble import RandomForestRegressor\n",
    "model_rf = RandomForestRegressor(n_estimators=8)"
   ]
  },
  {
   "cell_type": "code",
   "execution_count": 32,
   "id": "28862ae8",
   "metadata": {},
   "outputs": [
    {
     "data": {
      "text/plain": [
       "RandomForestRegressor(n_estimators=8)"
      ]
     },
     "execution_count": 32,
     "metadata": {},
     "output_type": "execute_result"
    }
   ],
   "source": [
    "model_rf.fit(data_train,target_train)"
   ]
  },
  {
   "cell_type": "code",
   "execution_count": 33,
   "id": "79027c57",
   "metadata": {},
   "outputs": [
    {
     "data": {
      "text/plain": [
       "0.7024516160814406"
      ]
     },
     "execution_count": 33,
     "metadata": {},
     "output_type": "execute_result"
    }
   ],
   "source": [
    "model_rf.score(data_test,target_test)"
   ]
  },
  {
   "cell_type": "code",
   "execution_count": 34,
   "id": "d48c6194",
   "metadata": {},
   "outputs": [
    {
     "data": {
      "text/html": [
       "<div>\n",
       "<style scoped>\n",
       "    .dataframe tbody tr th:only-of-type {\n",
       "        vertical-align: middle;\n",
       "    }\n",
       "\n",
       "    .dataframe tbody tr th {\n",
       "        vertical-align: top;\n",
       "    }\n",
       "\n",
       "    .dataframe thead th {\n",
       "        text-align: right;\n",
       "    }\n",
       "</style>\n",
       "<table border=\"1\" class=\"dataframe\">\n",
       "  <thead>\n",
       "    <tr style=\"text-align: right;\">\n",
       "      <th></th>\n",
       "      <th>Score</th>\n",
       "      <th>Number of Trees</th>\n",
       "    </tr>\n",
       "  </thead>\n",
       "  <tbody>\n",
       "    <tr>\n",
       "      <th>0</th>\n",
       "      <td>0.358809</td>\n",
       "      <td>1.0</td>\n",
       "    </tr>\n",
       "    <tr>\n",
       "      <th>1</th>\n",
       "      <td>0.371616</td>\n",
       "      <td>3.0</td>\n",
       "    </tr>\n",
       "    <tr>\n",
       "      <th>2</th>\n",
       "      <td>0.601438</td>\n",
       "      <td>5.0</td>\n",
       "    </tr>\n",
       "    <tr>\n",
       "      <th>3</th>\n",
       "      <td>0.721101</td>\n",
       "      <td>7.0</td>\n",
       "    </tr>\n",
       "    <tr>\n",
       "      <th>4</th>\n",
       "      <td>0.664692</td>\n",
       "      <td>9.0</td>\n",
       "    </tr>\n",
       "  </tbody>\n",
       "</table>\n",
       "</div>"
      ],
      "text/plain": [
       "      Score  Number of Trees\n",
       "0  0.358809              1.0\n",
       "1  0.371616              3.0\n",
       "2  0.601438              5.0\n",
       "3  0.721101              7.0\n",
       "4  0.664692              9.0"
      ]
     },
     "execution_count": 34,
     "metadata": {},
     "output_type": "execute_result"
    }
   ],
   "source": [
    "arr = np.arange(1, 101, 2)\n",
    "pred = np.array([])\n",
    "for i in arr:\n",
    "    model_rf = RandomForestRegressor(n_estimators=i)\n",
    "    model_rf.fit(data_train,target_train)\n",
    "    temp = model_rf.score(data_test,target_test)\n",
    "    pred = np.append(pred,temp)\n",
    "pred = np.column_stack((pred,arr))\n",
    "pred = pd.DataFrame(pred,columns=['Score', 'Number of Trees'])\n",
    "pred.head()"
   ]
  },
  {
   "cell_type": "code",
   "execution_count": 35,
   "id": "e33cc7dc",
   "metadata": {},
   "outputs": [
    {
     "data": {
      "text/plain": [
       "[Text(0.5, 1.0, 'Predicted score')]"
      ]
     },
     "execution_count": 35,
     "metadata": {},
     "output_type": "execute_result"
    },
    {
     "data": {
      "image/png": "[encoded data removed]",
      "text/plain": [
       "<Figure size 432x288 with 1 Axes>"
      ]
     },
     "metadata": {
      "needs_background": "light"
     },
     "output_type": "display_data"
    }
   ],
   "source": [
    "import seaborn as sns\n",
    "import matplotlib.pyplot as plt\n",
    "sns.lineplot(x = 'Number of Trees',y = 'Score',data = pred,palette = 'dark').set(title=\"Predicted score\")"
   ]
  },
  {
   "cell_type": "code",
   "execution_count": 36,
   "id": "d5fc4ebf",
   "metadata": {},
   "outputs": [
    {
     "data": {
      "text/html": [
       "<div>\n",
       "<style scoped>\n",
       "    .dataframe tbody tr th:only-of-type {\n",
       "        vertical-align: middle;\n",
       "    }\n",
       "\n",
       "    .dataframe tbody tr th {\n",
       "        vertical-align: top;\n",
       "    }\n",
       "\n",
       "    .dataframe thead th {\n",
       "        text-align: right;\n",
       "    }\n",
       "</style>\n",
       "<table border=\"1\" class=\"dataframe\">\n",
       "  <thead>\n",
       "    <tr style=\"text-align: right;\">\n",
       "      <th></th>\n",
       "      <th>importance</th>\n",
       "    </tr>\n",
       "    <tr>\n",
       "      <th>feature</th>\n",
       "      <th></th>\n",
       "    </tr>\n",
       "  </thead>\n",
       "  <tbody>\n",
       "    <tr>\n",
       "      <th>Stress</th>\n",
       "      <td>0.829</td>\n",
       "    </tr>\n",
       "    <tr>\n",
       "      <th>Z</th>\n",
       "      <td>0.084</td>\n",
       "    </tr>\n",
       "    <tr>\n",
       "      <th>exp(Q/RT)</th>\n",
       "      <td>0.034</td>\n",
       "    </tr>\n",
       "    <tr>\n",
       "      <th>Temperature</th>\n",
       "      <td>0.032</td>\n",
       "    </tr>\n",
       "    <tr>\n",
       "      <th>log(strain_rate)</th>\n",
       "      <td>0.012</td>\n",
       "    </tr>\n",
       "    <tr>\n",
       "      <th>Strain rate</th>\n",
       "      <td>0.010</td>\n",
       "    </tr>\n",
       "  </tbody>\n",
       "</table>\n",
       "</div>"
      ],
      "text/plain": [
       "                  importance\n",
       "feature                     \n",
       "Stress                 0.829\n",
       "Z                      0.084\n",
       "exp(Q/RT)              0.034\n",
       "Temperature            0.032\n",
       "log(strain_rate)       0.012\n",
       "Strain rate            0.010"
      ]
     },
     "execution_count": 36,
     "metadata": {},
     "output_type": "execute_result"
    }
   ],
   "source": [
    "importances = pd.DataFrame({'feature':data_train.columns,'importance':np.round(model_rf.feature_importances_,3)})\n",
    "importances = importances.sort_values('importance',ascending=False).set_index('feature')\n",
    "importances"
   ]
  },
  {
   "cell_type": "code",
   "execution_count": null,
   "id": "9d86e419",
   "metadata": {},
   "outputs": [],
   "source": [
    "from sklearn.tree import export_graphviz\n",
    "estimator = model_rf.estimators_[1]\n",
    "export_graphviz(estimator, 'tree.dot', feature_names = data_train.columns)"
   ]
  },
  {
   "cell_type": "code",
   "execution_count": null,
   "id": "4d9bbe36",
   "metadata": {},
   "outputs": [],
   "source": [
    "from subprocess import call\n",
    "call(['dot', '-Tpng', 'tree.dot', '-o', 'tree.png', '-Gdpi=600'])"
   ]
  },
  {
   "cell_type": "code",
   "execution_count": null,
   "id": "2c6e469e",
   "metadata": {},
   "outputs": [],
   "source": [
    "# # Display in jupyter notebook\n",
    "# from IPython.display import Image\n",
    "# Image(filename = 'tree.png')"
   ]
  },
  {
   "cell_type": "code",
   "execution_count": null,
   "id": "2f0cb603",
   "metadata": {},
   "outputs": [],
   "source": [
    "data_1193= pd.read_csv(\"1193_all.csv\").to_numpy()\n",
    "data_1223= pd.read_csv(\"1223_all.csv\").to_numpy()\n",
    "data_1253= pd.read_csv(\"1253_all.csv\").to_numpy()\n",
    "data_1283= pd.read_csv(\"1283_all.csv\").to_numpy()\n",
    "data_1313= pd.read_csv(\"1313_all.csv\").to_numpy()"
   ]
  },
  {
   "cell_type": "code",
   "execution_count": null,
   "id": "6b19a14b",
   "metadata": {},
   "outputs": [],
   "source": [
    "#predicted recrystallization fraction for T = 1193K\n",
    "pred = np.array([])\n",
    "for i in data_1193:\n",
    "    temp = model_rf.predict([i])\n",
    "    pred = np.append(pred,temp) \n",
    "pred_1193 = np.column_stack((data_1193,pred))"
   ]
  },
  {
   "cell_type": "code",
   "execution_count": null,
   "id": "e3fac492",
   "metadata": {},
   "outputs": [],
   "source": [
    "pred_1193 = pd.DataFrame(pred_1193,columns=['Temperature', 'Strain_rate','Strain','Stress','Pred_recry'])\n",
    "pred_1193.to_csv(\"pred_1193.csv\",index=False)"
   ]
  },
  {
   "cell_type": "code",
   "execution_count": null,
   "id": "93e52255",
   "metadata": {},
   "outputs": [],
   "source": [
    "#predicted recrystallization fraction for T = 1223K\n",
    "pred = np.array([])\n",
    "for i in data_1223:\n",
    "    temp = model_rf.predict([i])\n",
    "    pred = np.append(pred,temp) \n",
    "pred_1223 = np.column_stack((data_1223,pred))"
   ]
  },
  {
   "cell_type": "code",
   "execution_count": null,
   "id": "b31ef5f8",
   "metadata": {},
   "outputs": [],
   "source": [
    "pred_1223 = pd.DataFrame(pred_1223,columns=['Temperature', 'Strain_rate','Strain','Stress','Pred_recry'])\n",
    "pred_1223.to_csv(\"pred_1223.csv\",index=False)"
   ]
  },
  {
   "cell_type": "code",
   "execution_count": null,
   "id": "ee7018a5",
   "metadata": {},
   "outputs": [],
   "source": [
    "#predicted recrystallization fraction for T = 1253K\n",
    "pred = np.array([])\n",
    "for i in data_1253:\n",
    "    temp = model_rf.predict([i])\n",
    "    pred = np.append(pred,temp) \n",
    "pred_1253 = np.column_stack((data_1253,pred))"
   ]
  },
  {
   "cell_type": "code",
   "execution_count": null,
   "id": "52897009",
   "metadata": {},
   "outputs": [],
   "source": [
    "pred_1253 = pd.DataFrame(pred_1253,columns=['Temperature', 'Strain_rate','Strain','Stress','Pred_recry'])\n",
    "pred_1253.to_csv(\"pred_1253.csv\",index=False)"
   ]
  },
  {
   "cell_type": "code",
   "execution_count": null,
   "id": "9042d81d",
   "metadata": {},
   "outputs": [],
   "source": [
    "#predicted recrystallization fraction for T = 1283K\n",
    "pred = np.array([])\n",
    "for i in data_1283:\n",
    "    temp = model_rf.predict([i])\n",
    "    pred = np.append(pred,temp) \n",
    "pred_1283 = np.column_stack((data_1283,pred))"
   ]
  },
  {
   "cell_type": "code",
   "execution_count": null,
   "id": "f13efaaf",
   "metadata": {},
   "outputs": [],
   "source": [
    "pred_1283 = pd.DataFrame(pred_1283,columns=['Temperature', 'Strain_rate','Strain','Stress','Pred_recry'])\n",
    "pred_1283.to_csv(\"pred_1283.csv\",index=False)"
   ]
  },
  {
   "cell_type": "code",
   "execution_count": null,
   "id": "bf958892",
   "metadata": {},
   "outputs": [],
   "source": [
    "#predicted recrystallization fraction for T = 1313K\n",
    "pred = np.array([])\n",
    "for i in data_1313:\n",
    "    temp = model_rf.predict([i])\n",
    "    pred = np.append(pred,temp) \n",
    "pred_1313 = np.column_stack((data_1313,pred))"
   ]
  },
  {
   "cell_type": "code",
   "execution_count": null,
   "id": "55cca539",
   "metadata": {},
   "outputs": [],
   "source": [
    "pred_1313 = pd.DataFrame(pred_1313,columns=['Temperature', 'Strain_rate','Strain','Stress','Pred_recry'])\n",
    "pred_1313.to_csv(\"pred_1313.csv\",index=False)"
   ]
  },
  {
   "cell_type": "code",
   "execution_count": null,
   "id": "d3a21c05",
   "metadata": {},
   "outputs": [],
   "source": [
    "#predicted recrystallization fraction for T = 1313K\n",
    "data_1253_avg= pd.read_csv(\"1253_all_averaging.csv\").to_numpy()\n",
    "pred = np.array([])\n",
    "for i in data_1253_avg:\n",
    "    temp = model_rf.predict([i])\n",
    "    pred = np.append(pred,temp) \n",
    "pred_1253_avg = np.column_stack((data_1253_avg,pred))"
   ]
  },
  {
   "cell_type": "code",
   "execution_count": null,
   "id": "c9870f50",
   "metadata": {},
   "outputs": [],
   "source": [
    "pred_1253_avg = pd.DataFrame(pred_1253_avg,columns=['Temperature', 'Strain_rate','Strain','Stress','Pred_recry'])\n",
    "pred_1253_avg.to_csv(\"pred_1253_avg.csv\",index=False)"
   ]
  },
  {
   "cell_type": "code",
   "execution_count": null,
   "id": "2ccf6860",
   "metadata": {},
   "outputs": [],
   "source": [
    "df_1193 = df1[df1['Temperature'] == 1193]\n",
    "df_1223 = df1[df1['Temperature'] == 1223]\n",
    "df_1253 = df1[df1['Temperature'] == 1253]\n",
    "df_1283 = df1[df1['Temperature'] == 1283]\n",
    "df_1313 = df1[df1['Temperature'] == 1313]"
   ]
  },
  {
   "cell_type": "code",
   "execution_count": null,
   "id": "baeb0537",
   "metadata": {},
   "outputs": [],
   "source": [
    "pred_1193 = pred_1193[pred_1193['Strain']>=0.1]\n",
    "pred_1223 = pred_1223[pred_1223['Strain']>=0.1]\n",
    "pred_1253 = pred_1253[pred_1253['Strain']>=0.1]\n",
    "pred_1283 = pred_1283[pred_1283['Strain']>=0.1]\n",
    "pred_1313 = pred_1313[pred_1313['Strain']>=0.1]"
   ]
  },
  {
   "cell_type": "code",
   "execution_count": null,
   "id": "1d58e175",
   "metadata": {},
   "outputs": [],
   "source": [
    "#plotting libraries \n",
    "import seaborn as sns\n",
    "import matplotlib.pyplot as plt"
   ]
  },
  {
   "cell_type": "code",
   "execution_count": null,
   "id": "7009a23e",
   "metadata": {},
   "outputs": [],
   "source": [
    "#comparison plot between experiment and predicted data\n",
    "fig, axes = plt.subplots(nrows=1,ncols=1, figsize=(6, 5), tight_layout=True)\n",
    "sns.scatterplot(x = 'Strain',y = 'Recrystallization',data = df_1193,hue = 'Strain rate',palette = 'dark')\n",
    "sns.lineplot(x = 'Strain',y = 'Pred_recry',data = pred_1193,hue = 'Strain_rate',palette = 'dark',legend = False)\n",
    "plt.title(\"For T = 1193 K\")"
   ]
  },
  {
   "cell_type": "code",
   "execution_count": null,
   "id": "5d5cecf2",
   "metadata": {},
   "outputs": [],
   "source": [
    "#comparison plot between experiment and predicted data\n",
    "fig, axes = plt.subplots(nrows=1,ncols=1, figsize=(6, 5), tight_layout=True)\n",
    "sns.scatterplot(x = 'Strain',y = 'Recrystallization',data = df_1223,hue = 'Strain rate',palette = 'dark')\n",
    "sns.lineplot(x = 'Strain',y = 'Pred_recry',data = pred_1223,hue = 'Strain_rate',palette = 'dark',legend = False)\n",
    "plt.title(\"For T = 1223 K\")"
   ]
  },
  {
   "cell_type": "code",
   "execution_count": null,
   "id": "20b42d9c",
   "metadata": {},
   "outputs": [],
   "source": [
    "#comparison plot between experiment and predicted data\n",
    "fig, axes = plt.subplots(nrows=1,ncols=1, figsize=(6, 5), tight_layout=True)\n",
    "sns.scatterplot(x = 'Strain',y = 'Recrystallization',data = df_1253,hue = 'Strain rate',palette = 'dark')\n",
    "sns.lineplot(x = 'Strain',y = 'Pred_recry',data = pred_1253,hue = 'Strain_rate',palette = 'dark',legend = False)\n",
    "plt.title(\"For T = 1253 K\")"
   ]
  },
  {
   "cell_type": "code",
   "execution_count": null,
   "id": "73d27563",
   "metadata": {},
   "outputs": [],
   "source": [
    "#comparison plot between experiment and predicted data\n",
    "fig, axes = plt.subplots(nrows=1,ncols=1, figsize=(6, 5), tight_layout=True)\n",
    "sns.scatterplot(x = 'Strain',y = 'Recrystallization',data = df_1283,hue = 'Strain rate',palette = 'dark')\n",
    "sns.lineplot(x = 'Strain',y = 'Pred_recry',data = pred_1283,hue = 'Strain_rate',palette = 'dark',legend = False)\n",
    "plt.title(\"For T = 1283 K\")"
   ]
  },
  {
   "cell_type": "code",
   "execution_count": null,
   "id": "011e9473",
   "metadata": {},
   "outputs": [],
   "source": [
    "#comparison plot between experiment and predicted data\n",
    "fig, axes = plt.subplots(nrows=1,ncols=1, figsize=(6, 5), tight_layout=True)\n",
    "sns.scatterplot(x = 'Strain',y = 'Recrystallization',data = df_1313,hue = 'Strain rate',palette = 'dark')\n",
    "sns.lineplot(x = 'Strain',y = 'Pred_recry',data = pred_1313,hue = 'Strain_rate',palette = 'dark',legend = False)\n",
    "plt.title(\"For T = 1313 K\")"
   ]
  }
 ],
 "metadata": {
  "kernelspec": {
   "display_name": "Python 3",
   "language": "python",
   "name": "python3"
  },
  "language_info": {
   "codemirror_mode": {
    "name": "ipython",
    "version": 3
   },
   "file_extension": ".py",
   "mimetype": "text/x-python",
   "name": "python",
   "nbconvert_exporter": "python",
   "pygments_lexer": "ipython3",
   "version": "3.8.8"
  }
 },
 "nbformat": 4,
 "nbformat_minor": 5
}
